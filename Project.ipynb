{
 "cells": [
  {
   "cell_type": "markdown",
   "metadata": {},
   "source": [
    "### Libraries"
   ]
  },
  {
   "cell_type": "code",
   "execution_count": null,
   "metadata": {},
   "outputs": [],
   "source": [
    "import random"
   ]
  },
  {
   "cell_type": "markdown",
   "metadata": {},
   "source": [
    "### Batch Classes & required classes"
   ]
  },
  {
   "cell_type": "code",
   "execution_count": null,
   "metadata": {},
   "outputs": [],
   "source": [
    "Batch_21 = [\"Information Security\",\"Professional Paractices\"]\n",
    "Batch_22 = [\"'Automata\",\"SDA\",\"Stat Modeling\",\"C net\",\"TBW\"]\n",
    "Batch_23 = [\"Dicrete Mathematics\",\"Data Structures\",\"Computer Assemly\",\"Linear Algebra\"]\n",
    "Batch_24 = [\"Programming Fundamentals\",\"Applied Physics\",\"Calculas\",\"English\",\"Islamiat\"]"
   ]
  },
  {
   "cell_type": "markdown",
   "metadata": {},
   "source": [
    "### Total allowed classes"
   ]
  },
  {
   "cell_type": "code",
   "execution_count": null,
   "metadata": {},
   "outputs": [],
   "source": [
    "Total_Classes_Per_Batch = 5"
   ]
  },
  {
   "cell_type": "markdown",
   "metadata": {},
   "source": [
    "#### List of Electives"
   ]
  },
  {
   "cell_type": "code",
   "execution_count": null,
   "metadata": {},
   "outputs": [],
   "source": [
    "Electives = [\"Fundamentals of Marketing\",\"Marketing Managment\",\"Pycology\",\"Web\",\"SMD\",\"DIP\",\"Advanced Programming\",\"Data Science\",\"Machine Learning\",\"AI\",\"IOT\",\"Cloud Computing\",\"Cyber Security\",\"Network Security\"]"
   ]
  },
  {
   "cell_type": "markdown",
   "metadata": {},
   "source": [
    "### Total Sections"
   ]
  },
  {
   "cell_type": "code",
   "execution_count": null,
   "metadata": {},
   "outputs": [],
   "source": [
    "Sections_Names = []\n",
    "Total_Sections = 5\n",
    "for i in range (Total_Sections):\n",
    "    Sections_Names.append(\"Section \"+str(i+1))"
   ]
  },
  {
   "cell_type": "markdown",
   "metadata": {},
   "source": [
    "### Class Rooms"
   ]
  },
  {
   "cell_type": "code",
   "execution_count": null,
   "metadata": {},
   "outputs": [],
   "source": [
    "Total_Floors = 5\n",
    "Class_Rooms_Per_Floor = 10\n",
    "Class_Rooms = []\n",
    "for i in range (Total_Floors):\n",
    "    for j in range (Class_Rooms_Per_Floor):\n",
    "        Class_Rooms.append(\"Floor \"+str(i+1)+\" Room \"+str(j+1))"
   ]
  },
  {
   "cell_type": "markdown",
   "metadata": {},
   "source": [
    "### Labs"
   ]
  },
  {
   "cell_type": "code",
   "execution_count": null,
   "metadata": {},
   "outputs": [],
   "source": [
    "Lab_Rooms_Per_Floor = 3\n",
    "Lab_Rooms = []\n",
    "for i in range (Total_Floors):\n",
    "    for j in range (Lab_Rooms_Per_Floor):\n",
    "        Lab_Rooms.append(\"Floor \"+str(i+1)+\" Lab \"+str(j+1))"
   ]
  },
  {
   "cell_type": "markdown",
   "metadata": {},
   "source": [
    "### Teachers"
   ]
  },
  {
   "cell_type": "code",
   "execution_count": null,
   "metadata": {},
   "outputs": [],
   "source": [
    "Teacher = []\n",
    "Total_Teachers = 15\n",
    "for i in range (Total_Teachers):\n",
    "    Teacher.append(\"Teacher \"+str(i+1))"
   ]
  },
  {
   "cell_type": "markdown",
   "metadata": {},
   "source": [
    "### Time Constraints"
   ]
  },
  {
   "cell_type": "code",
   "execution_count": null,
   "metadata": {},
   "outputs": [],
   "source": [
    "from datetime import datetime, timedelta\n",
    "\n",
    "Number_of_Classes_one_Teacher_can_take = 3\n",
    "Time_Slots = []\n",
    "Start_Time = datetime.strptime(\"08:30\", \"%H:%M\")\n",
    "break_time = timedelta(minutes=15) #minutes\n",
    "Class_Interval = timedelta(minutes=80) #minutes == 1 hour 20 minutes\n",
    "Total_Classes_Per_day = 7\n",
    "for i in range(Total_Classes_Per_day):\n",
    "    Time_Slots.append(Start_Time.strftime(\"%H:%M\"))\n",
    "    Start_Time = Start_Time + Class_Interval + break_time\n",
    "    if i == (Total_Classes_Per_day-2):\n",
    "        Start_Time -= break_time\n"
   ]
  },
  {
   "cell_type": "markdown",
   "metadata": {},
   "source": [
    "### Capacity of each room"
   ]
  },
  {
   "cell_type": "code",
   "execution_count": null,
   "metadata": {},
   "outputs": [],
   "source": [
    "Capacity_of_Class_Rooms = []\n",
    "for i in range(len(Class_Rooms)):\n",
    "    Capacity_of_Class_Rooms.append(60)\n",
    "\n",
    "# Randomly making some class rooms with capacity of 120\n",
    "for i in range(10):\n",
    "    Capacity_of_Class_Rooms[random.randint(0,len(Class_Rooms)-1)] = 120"
   ]
  },
  {
   "cell_type": "markdown",
   "metadata": {},
   "source": [
    "### Days"
   ]
  },
  {
   "cell_type": "code",
   "execution_count": null,
   "metadata": {},
   "outputs": [],
   "source": [
    "Days = [\"Monday\",\"Tuesday\",\"Wednesday\",\"Thursday\",\"Friday\"]"
   ]
  },
  {
   "cell_type": "markdown",
   "metadata": {},
   "source": [
    "The chromosomes should be binary encoded with the following information:\n",
    "\n",
    "`Course, Theory/Lab, Section, Section-Strength, Professor, First-lecture-day,\n",
    "First- lecture-timeslot, First-lecture-room, First-lecture-room-size, Second-\n",
    "lecture-day, Second-lecture-timeslot, Second-lecture-room, Second-lecture-\n",
    "room-size`"
   ]
  },
  {
   "cell_type": "code",
   "execution_count": null,
   "metadata": {},
   "outputs": [],
   "source": [
    "def Creating_FirstGeneration():\n",
    "    # This will create a random timetable for according to the given constraints for all sections of all batches\n",
    "    # It will return a list of dictionaries where each dictionary will represent a timetable for a section of a batch\n",
    "    # Each dictionary will have the following keys\n",
    "    # \"Section\" : Section Name\n",
    "    # \"Batch\" : Batch Name\n",
    "    # \"Classes\" : List of dictionaries where each dictionary will represent a class\n",
    "    # Each class dictionary will have the following keys\n",
    "    # \"Day\" : Day Name\n",
    "    # \"Time\" : Time Slot\n",
    "    # \"ClassRoom\" : Class Room Name\n",
    "    # \"Teacher\" : Teacher Name\n",
    "    # \"Subject\" : Subject Name\n",
    "    # \"Capacity\" : Capacity of the Class Room\n",
    "    # \"Type\" : Class Type (Lecture or Lab)\n",
    "    # \"Duration\" : Duration of the Class\n",
    "    # \"Elective\" : Elective Name (if the subject is elective)\n",
    "    # \"Batch\" : Batch Name\n",
    "    # \"Section\" : Section Name\n",
    "    # \"Teacher\" : Teacher Name\n",
    "    Timetable = []\n",
    "    for Batch in [Batch_21,Batch_22,Batch_23,Batch_24]:\n",
    "        for Section in Sections_Names:\n",
    "            Classes = []\n",
    "            for Day in Days:\n",
    "                for Time in Time_Slots:\n",
    "                    for i in range(Total_Classes_Per_Batch):\n",
    "                        Class = {}\n",
    "                        Class[\"Day\"] = Day\n",
    "                        Class[\"Time\"] = Time\n",
    "                        Class[\"ClassRoom\"] = Class_Rooms[random.randint(0,len(Class_Rooms)-1)]\n",
    "                        Class[\"Teacher\"] = Teacher[random.randint(0,len(Teacher)-1)]\n",
    "                        Class[\"Subject\"] = Batch[random.randint(0,len(Batch)-1)]\n",
    "                        Class[\"Capacity\"] = Capacity_of_Class_Rooms[Class_Rooms.index\n",
    "                        (Class[\"ClassRoom\"])]\n",
    "                        Class[\"Type\"] = \"Lecture\"\n",
    "                        Class[\"Duration\"] = 1\n",
    "                        Class[\"Elective\"] = \"\"\n",
    "                        Class[\"Batch\"] = Batch\n",
    "                        Class[\"Section\"] = Section\n",
    "                        Classes.append(Class)\n",
    "            Timetable.append({\"Section\":Section,\"Batch\":Batch,\"Classes\":Classes})\n",
    "    return Timetable\n"
   ]
  },
  {
   "cell_type": "markdown",
   "metadata": {},
   "source": [
    "### Creating Binary encoder"
   ]
  },
  {
   "cell_type": "code",
   "execution_count": null,
   "metadata": {},
   "outputs": [],
   "source": [
    "def TimeTableEncoder(TimeTable):\n",
    "    # This function will encode the timetable into a Binary String where each bit will represent a class\n",
    "    # It will return a binary string  \n",
    "    # Using the index of the values in the lists to encode them in binary\n",
    "    # This will help in decoding the binary string back to the timetable\n",
    "    # The binary string will be generated by concatenating the binary strings of each class\n",
    "    # Each class will be encoded as follows\n",
    "    # 5 bits for Day\n",
    "    # 6 bits for Time\n",
    "    # 10 bits for Class Room\n",
    "    # 10 bits for Teacher\n",
    "    # 10 bits for Subject\n",
    "    # 7 bits for Capacity\n",
    "    # 1 bit for Type\n",
    "    # 2 bits for Duration\n",
    "    # 10 bits for Elective\n",
    "    # 2 bits for Batch\n",
    "    # 3 bits for Section\n",
    "    # 10 bits for Teacher\n",
    "    BinaryString = \"\"\n",
    "    for Batch in [Batch_21,Batch_22,Batch_23,Batch_24]:\n",
    "        for Section in Sections_Names:\n",
    "            for Class in TimeTable:\n",
    "                if Class[\"Batch\"] == Batch and Class[\"Section\"] == Section:\n",
    "                    if \"Day\" in Class:\n",
    "                        BinaryString += format(Days.index(Class[\"Day\"]),'05b')\n",
    "                    else:\n",
    "                        print(\"Key 'Day' not found in Class\")\n",
    "                    BinaryString += format(Time_Slots.index(Class[\"Time\"]),'06b')\n",
    "                    BinaryString += format(Class_Rooms.index(Class[\"ClassRoom\"]),'010b')\n",
    "                    BinaryString += format(Teacher.index(Class[\"Teacher\"]),'010b')\n",
    "                    BinaryString += format(Batch.index(Class[\"Subject\"]),'010b')\n",
    "                    BinaryString += format(Capacity_of_Class_Rooms.index(Class[\"Capacity\"]),'07b')\n",
    "                    BinaryString += format(0,'01b') # 0 for Lecture and 1 for Lab\n",
    "                    BinaryString += format(Class[\"Duration\"],'02b')\n",
    "                    BinaryString += format(Electives.index(Class[\"Elective\"]),'010b')\n",
    "                    BinaryString += format([Batch_21,Batch_22,Batch_23,Batch_24].index(Class[\"Batch\"]),'02b')\n",
    "                    BinaryString += format(Sections_Names.index(Class[\"Section\"]),'03b')\n",
    "                    BinaryString += format(Teacher.index(Class[\"Teacher\"]),'010b')\n",
    "    return BinaryString"
   ]
  },
  {
   "cell_type": "markdown",
   "metadata": {},
   "source": [
    "### Creating Decoder"
   ]
  },
  {
   "cell_type": "code",
   "execution_count": null,
   "metadata": {},
   "outputs": [],
   "source": [
    "def TimeTableDecoder(BinaryString):\n",
    "    # This function will decode the binary string back to the timetable\n",
    "    # It will return a list of dictionaries where each dictionary will represent a timetable for a section of a batch\n",
    "    # Each dictionary will have the following keys\n",
    "    # \"Section\" : Section Name\n",
    "    # \"Batch\" : Batch Name\n",
    "    # \"Classes\" : List of dictionaries where each dictionary will represent a class\n",
    "    # Each class dictionary will have the following keys\n",
    "    # \"Day\" : Day Name\n",
    "    # \"Time\" : Time Slot\n",
    "    # \"ClassRoom\" : Class Room Name\n",
    "    # \"Teacher\" : Teacher Name\n",
    "    # \"Subject\" : Subject Name\n",
    "    # \"Capacity\" : Capacity of the Class Room\n",
    "    # \"Type\" : Class Type (Lecture or Lab)\n",
    "    # \"Duration\" : Duration of the Class\n",
    "    # \"Elective\" : Elective Name (if the subject is elective)\n",
    "    # \"Batch\" : Batch Name\n",
    "    # \"Section\" : Section Name\n",
    "    # \"Teacher\" : Teacher Name\n",
    "    Timetable = []\n",
    "    for Batch in [Batch_21,Batch_22,Batch_23,Batch_24]:\n",
    "        for Section in Sections_Names:\n",
    "            Classes = []\n",
    "            for i in range(Total_Classes_Per_day*len(Time_Slots)*Total_Classes_Per_Batch):\n",
    "                Class = {}\n",
    "                Class[\"Day\"] = Days[int(BinaryString[:5],2)]\n",
    "                BinaryString = BinaryString[5:]\n",
    "                Class[\"Time\"] = Time_Slots[int(BinaryString[:6],2)]\n",
    "                BinaryString = BinaryString[6:]\n",
    "                Class[\"ClassRoom\"] = Class_Rooms[int(BinaryString[:10],2)]\n",
    "                BinaryString = BinaryString[10:]\n",
    "                Class[\"Teacher\"] = Teacher[int(BinaryString[:10],2)]\n",
    "                BinaryString = BinaryString[10:]\n",
    "                Class[\"Subject\"] = Batch[int(BinaryString[:10],2)]\n",
    "                BinaryString = BinaryString[10:]\n",
    "                Class[\"Capacity\"] = Capacity_of_Class_Rooms[int(BinaryString[:7],2)]\n",
    "                BinaryString = BinaryString[7:]\n",
    "                Class[\"Type\"] = \"Lecture\" if int(BinaryString[:1],2) == 0 else \"Lab\"\n",
    "                BinaryString = BinaryString[1:]\n",
    "                Class[\"Duration\"] = int(BinaryString[:2],2)\n",
    "                BinaryString = BinaryString[2:]\n",
    "                Class[\"Elective\"] = Electives[int(BinaryString[:10],2)]\n",
    "                BinaryString = BinaryString[10:]\n",
    "                Class[\"Batch\"] = Batch\n",
    "                Class[\"Section\"] = Section\n",
    "                Classes.append(Class)\n",
    "            Timetable.append({\"Section\":Section,\"Batch\":Batch,\"Classes\":Classes})\n",
    "    return Timetable"
   ]
  },
  {
   "cell_type": "markdown",
   "metadata": {},
   "source": [
    "### Creating Fitness function "
   ]
  },
  {
   "cell_type": "code",
   "execution_count": null,
   "metadata": {},
   "outputs": [],
   "source": [
    "# The fitness function should be an inverse or negative of the sum of all the\n",
    "# conflicts/clashes.\n",
    "def Fitness(TimeTable):\n",
    "    # This function will calculate the fitness of the timetable\n",
    "    # It will return the fitness value\n",
    "    # The fitness value will be calculated by counting the number of conflicts in the timetable\n",
    "    # A conflict will be counted if\n",
    "    '''\n",
    "        1. A teacher is teaching more than 1 class at a time\n",
    "        2. A class is assigned to a class room which is already occupied at that time\n",
    "        3. A class is assigned to a teacher who is already teaching at that time\n",
    "        4. A class is assigned to a class room which has less capacity than the class\n",
    "        5. A teacher is assigned to more than 3 classes in a day\n",
    "        6. A class is assigned to a lab room which is already occupied at that time\n",
    "        7. A lab room is assigned to a class which is not a lab\n",
    "        8. A lecture room is assigned to a class which is a lab\n",
    "        9. One batch has more than 3 classes in a day\n",
    "        10. A teacher is assigned to more than 3 classes in a day\n",
    "        11. A teacher is assigned to a class which is not his/her subject\n",
    "        12. A class section has lab and class at same time.\n",
    "        13. A class section has more than one class at a single time slot\n",
    "        14. A class section has more than one lab at a single time slot\n",
    "        15. A lab not given exactly 2 adjacent timr slots\n",
    "        16. A class not given exactly 1 time slot\n",
    "        17. A class occurs on adjacent days.\n",
    "        18. A class occurs on adjacent time slots\n",
    "        19. A class is assigned to a teacher who is not available at that time\n",
    "        20. A class is assigned to a class room which is not available at that time\n",
    "    '''\n",
    "    FitnessValue = 0\n",
    "    for Batch in [Batch_21,Batch_22,Batch_23,Batch_24]:\n",
    "        for Section in Sections_Names:\n",
    "            for Day in Days:\n",
    "                for Time in Time_Slots:\n",
    "                    Classes = []\n",
    "                    for Class in TimeTable:\n",
    "                        if Class[\"Batch\"] == Batch and Class[\"Section\"] == Section and Class[\"Day\"] == Day and Class[\"Time\"] == Time:\n",
    "                            Classes.append(Class) \n",
    "                    if len(Classes) > 1:\n",
    "                        FitnessValue += 1\n",
    "                        continue\n",
    "                    if len(Classes) == 1:\n",
    "                        if Classes[0][\"Type\"] == \"Lab\":\n",
    "                            if Classes[0][\"Duration\"] != 2:\n",
    "                                FitnessValue += 1\n",
    "                                continue\n",
    "                        else:\n",
    "                            if Classes[0][\"Duration\"] != 1:\n",
    "                                FitnessValue += 1\n",
    "                                continue\n",
    "                    if len(Classes) == 2:\n",
    "                        if Classes[0][\"Type\"] == \"Lab\" and Classes[1][\"Type\"] == \"Lab\":\n",
    "                            if Time_Slots.index(Classes[1][\"Time\"]) - Time_Slots.index(Classes[0][\"Time\"]) != 1:\n",
    "                                FitnessValue += 1\n",
    "                                continue\n",
    "                        if Classes[0][\"Type\"] == \"Lecture\" and Classes[1][\"Type\"] == \"Lecture\":\n",
    "                            if Days.index(Classes[1][\"Day\"]) - Days.index(Classes[0][\"Day\"]) == 1:\n",
    "                                FitnessValue += 1\n",
    "                                continue\n",
    "                            if Time_Slots.index(Classes[1][\"Time\"]) - Time_Slots.index(Classes[0][\"Time\"]) == 1:\n",
    "                                FitnessValue += 1\n",
    "                                continue\n",
    "                    if len(Classes) > 2:\n",
    "                        FitnessValue += 1\n",
    "                        continue\n",
    "    return FitnessValue\n"
   ]
  },
  {
   "cell_type": "markdown",
   "metadata": {},
   "source": [
    "### Selection"
   ]
  },
  {
   "cell_type": "code",
   "execution_count": null,
   "metadata": {},
   "outputs": [],
   "source": [
    "# Using tournament selection for selecting the parents\n",
    "def Selection(Population):\n",
    "    # This function will select the parents from the population using tournament selection\n",
    "    # It will return a list of dictionaries where each dictionary will represent a timetable for a section of a batch\n",
    "    # Each dictionary will have the following keys\n",
    "    # \"Section\" : Section Name\n",
    "    # \"Batch\" : Batch Name\n",
    "    # \"Classes\" : List of dictionaries where each dictionary will represent a class\n",
    "    # Each class dictionary will have the following keys\n",
    "    # \"Day\" : Day Name\n",
    "    # \"Time\" : Time Slot\n",
    "    # \"ClassRoom\" : Class Room Name\n",
    "    # \"Teacher\" : Teacher Name\n",
    "    # \"Subject\" : Subject Name\n",
    "    # \"Capacity\" : Capacity of the Class Room\n",
    "    # \"Type\" : Class Type (Lecture or Lab)\n",
    "    # \"Duration\" : Duration of the Class\n",
    "    # \"Elective\" : Elective Name (if the subject is elective)\n",
    "    # \"Batch\" : Batch Name\n",
    "    # \"Section\" : Section Name\n",
    "    # \"Teacher\" : Teacher Name\n",
    "    Parents = []\n",
    "    for i in range(10):\n",
    "        Parent = Population[random.randint(0,len(Population)-1)]\n",
    "        Parents.append(Parent)\n",
    "\n",
    "    # finding fitness of each parent and selecting the best 2 parents\n",
    "    FitnessValues = []\n",
    "    for Parent in Parents:\n",
    "        FitnessValues.append(Fitness(Parent))\n",
    "\n",
    "    BestParent1 = Parents[FitnessValues.index(min(FitnessValues))]\n",
    "    FitnessValues.remove(min(FitnessValues))\n",
    "    Parents.remove(BestParent1)\n",
    "    BestParent2 = Parents[FitnessValues.index(min(FitnessValues))]\n",
    "    return BestParent1,BestParent2\n"
   ]
  },
  {
   "cell_type": "markdown",
   "metadata": {},
   "source": [
    "### Crossover"
   ]
  },
  {
   "cell_type": "code",
   "execution_count": null,
   "metadata": {},
   "outputs": [],
   "source": [
    "# Using 2 point crossover\n",
    "def Crossover(Parent1,Parent2):\n",
    "    # This function will perform crossover between 2 parents\n",
    "    # It will return a child\n",
    "    # The crossover will be performed by selecting 2 random points in the binary string\n",
    "    # The child will be generated by taking the bits from the first parent till the first point\n",
    "    # Then taking the bits from the second parent from the first point to the second point\n",
    "    # Then taking the bits from the first parent from the second point to the end\n",
    "    Child = Parent1[:int(len(Parent1)/2)] + Parent2[int(len(Parent2)/2):]\n",
    "    return Child"
   ]
  },
  {
   "cell_type": "markdown",
   "metadata": {},
   "source": [
    "### Mutation"
   ]
  },
  {
   "cell_type": "code",
   "execution_count": null,
   "metadata": {},
   "outputs": [],
   "source": [
    "# takes the child and mutates it by flipping a random bit\n",
    "def Mutation(Child):\n",
    "    # This function will mutate the child by flipping a random bit\n",
    "    # It will return the mutated child\n",
    "    # A random bit will be selected and flipped\n",
    "    index = random.randint(0,len(Child)-1)\n",
    "    if Child[index] == '0':\n",
    "        Child = Child[:index] + '1' + Child[index+1:]\n",
    "    else:\n",
    "        Child = Child[:index] + '0' + Child[index+1:]\n",
    "    return Child"
   ]
  },
  {
   "cell_type": "markdown",
   "metadata": {},
   "source": [
    "### The Genetic Algorithm Function"
   ]
  },
  {
   "cell_type": "code",
   "execution_count": null,
   "metadata": {},
   "outputs": [],
   "source": [
    "def GeneticAlgo(iteration):\n",
    "    # This function will perform the genetic algorithm\n",
    "    # It will return the best timetable\n",
    "    Population = []\n",
    "    for i in range(10):\n",
    "        Population.append(TimeTableEncoder(Creating_FirstGeneration()))\n",
    "    for i in range(iteration):\n",
    "        BestParent1,BestParent2 = Selection(Population)\n",
    "        Child = Crossover(BestParent1,BestParent2)\n",
    "        Child = Mutation(Child)\n",
    "        Population.append(Child)\n",
    "    FitnessValues = []\n",
    "    for Timetable in Population:\n",
    "        FitnessValues.append(Fitness(TimeTableDecoder(Timetable)))\n",
    "    BestTimetable = TimeTableDecoder(Population[FitnessValues.index(min(FitnessValues))])\n",
    "    return BestTimetable"
   ]
  },
  {
   "cell_type": "markdown",
   "metadata": {},
   "source": [
    "### Runner Code"
   ]
  },
  {
   "cell_type": "code",
   "execution_count": null,
   "metadata": {},
   "outputs": [],
   "source": [
    "BestTimetable = GeneticAlgo(100)\n",
    "print(BestTimetable)"
   ]
  }
 ],
 "metadata": {
  "kernelspec": {
   "display_name": "Python 3",
   "language": "python",
   "name": "python3"
  },
  "language_info": {
   "codemirror_mode": {
    "name": "ipython",
    "version": 3
   },
   "file_extension": ".py",
   "mimetype": "text/x-python",
   "name": "python",
   "nbconvert_exporter": "python",
   "pygments_lexer": "ipython3",
   "version": "3.10.0"
  }
 },
 "nbformat": 4,
 "nbformat_minor": 2
}
